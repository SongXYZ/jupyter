{
 "cells": [
  {
   "cell_type": "code",
   "execution_count": 2,
   "metadata": {},
   "outputs": [],
   "source": [
    "class Foo(object):\n",
    "    pass"
   ]
  },
  {
   "cell_type": "code",
   "execution_count": 10,
   "metadata": {},
   "outputs": [],
   "source": [
    "FooChild = type(\"FooChild\", (Foo,), {})"
   ]
  },
  {
   "cell_type": "code",
   "execution_count": 14,
   "metadata": {},
   "outputs": [
    {
     "name": "stdout",
     "output_type": "stream",
     "text": [
      "<class '__main__.FooChild'>\n"
     ]
    },
    {
     "data": {
      "text/plain": [
       "__main__.FooChild"
      ]
     },
     "execution_count": 14,
     "metadata": {},
     "output_type": "execute_result"
    }
   ],
   "source": [
    "print(FooChild)\n",
    "FooChild\n",
    "# FooChild.__class__"
   ]
  },
  {
   "cell_type": "code",
   "execution_count": 17,
   "metadata": {},
   "outputs": [
    {
     "name": "stdout",
     "output_type": "stream",
     "text": [
      "<class 'int'>\n",
      "<class 'type'>\n"
     ]
    }
   ],
   "source": [
    "a = 1\n",
    "print(a.__class__)\n",
    "print(a.__class__.__class__)"
   ]
  },
  {
   "cell_type": "code",
   "execution_count": 22,
   "metadata": {},
   "outputs": [
    {
     "data": {
      "text/plain": [
       "type"
      ]
     },
     "execution_count": 22,
     "metadata": {},
     "output_type": "execute_result"
    }
   ],
   "source": [
    "Foo.__class__"
   ]
  },
  {
   "cell_type": "code",
   "execution_count": 38,
   "metadata": {},
   "outputs": [],
   "source": [
    "# 元类会自动将你通常传给‘type’的参数作为自己的参数传入\n",
    "def upper_attr(future_class_name, future_class_parents, future_class_attr):\n",
    "    '''返回一个类对象，将属性都转为大写形式'''\n",
    "    #  选择所有不以'__'开头的属性\n",
    "    attrs = ((name, value) for name, value in future_class_attr.items() if not name.startswith('__'))\n",
    "    # 将它们转为大写形式\n",
    "    uppercase_attr = dict((name.upper(), value) for name, value in attrs)\n",
    " \n",
    "    # 通过'type'来做类对象的创建\n",
    "    return type(future_class_name, future_class_parents, uppercase_attr)\n",
    " \n",
    "__metaclass__ = upper_attr  #  这会作用到这个模块中的所有类\n",
    " \n",
    "class MC(object):\n",
    "    # 我们也可以只在这里定义__metaclass__，这样就只会作用于这个类中\n",
    "    bar = 'bip'"
   ]
  },
  {
   "cell_type": "code",
   "execution_count": 41,
   "metadata": {},
   "outputs": [
    {
     "name": "stdout",
     "output_type": "stream",
     "text": [
      "True\n",
      "False\n",
      "bip\n"
     ]
    }
   ],
   "source": [
    "print(hasattr(Foo, 'bar'))\n",
    "# 输出: False\n",
    "print(hasattr(Foo, 'BAR'))\n",
    "# 输出:True\n",
    " \n",
    "f = MC()\n",
    "print(f.bar)\n",
    "# 输出:'bip'"
   ]
  },
  {
   "cell_type": "code",
   "execution_count": 42,
   "metadata": {},
   "outputs": [],
   "source": [
    "class UpperAttrMetaclass(type):\n",
    "    def __new__(cls, name, bases, dct):\n",
    "        attrs = ((name, value) for name, value in dct.items() if not name.startswith('__'))\n",
    "        uppercase_attr = dict((name.upper(), value) for name, value in attrs)\n",
    "        return super(UpperAttrMetaclass, cls).__new__(cls, name, bases, uppercase_attr)"
   ]
  }
 ],
 "metadata": {
  "kernelspec": {
   "display_name": "Python 3",
   "language": "python",
   "name": "python3"
  },
  "language_info": {
   "codemirror_mode": {
    "name": "ipython",
    "version": 3
   },
   "file_extension": ".py",
   "mimetype": "text/x-python",
   "name": "python",
   "nbconvert_exporter": "python",
   "pygments_lexer": "ipython3",
   "version": "3.6.5"
  }
 },
 "nbformat": 4,
 "nbformat_minor": 2
}
