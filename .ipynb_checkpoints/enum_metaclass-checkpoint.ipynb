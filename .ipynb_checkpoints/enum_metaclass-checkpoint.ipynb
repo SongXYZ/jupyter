{
 "cells": [
  {
   "cell_type": "markdown",
   "metadata": {},
   "source": [
    "### #!/usr/bin/env python3\n",
    "### # -\\*- coding: utf-8 -\\*-\n",
    "第1行注释可以让这个hello.py文件直接在Unix/Linux/Mac上运行，\n",
    "第2行注释表示.py文件本身使用标准UTF-8编码；"
   ]
  },
  {
   "cell_type": "code",
   "execution_count": 4,
   "metadata": {},
   "outputs": [],
   "source": [
    "#!/usr/bin/env python3\n",
    "# -*-conding: utf-8-*-\n",
    "\n",
    "\n",
    "from enum import Enum, unique"
   ]
  },
  {
   "cell_type": "code",
   "execution_count": 5,
   "metadata": {},
   "outputs": [],
   "source": [
    "@unique  # unique装饰器可以帮助我们检查保证没有重复值\n",
    "class Weekday(Enum):\n",
    "    Sun = 0 # Sun的value被设定为0\n",
    "    Mon = 1\n",
    "    Tue = 2\n",
    "    Wed = 3\n",
    "    Thu = 4\n",
    "    Fri = 5\n",
    "    Sat = 6"
   ]
  },
  {
   "cell_type": "code",
   "execution_count": 6,
   "metadata": {},
   "outputs": [
    {
     "name": "stdout",
     "output_type": "stream",
     "text": [
      "Weekday.Sun\n",
      "0\n"
     ]
    }
   ],
   "source": [
    "print(Weekday.Sun)\n",
    "print(Weekday.Sun.value)"
   ]
  },
  {
   "cell_type": "code",
   "execution_count": 11,
   "metadata": {},
   "outputs": [
    {
     "name": "stdout",
     "output_type": "stream",
     "text": [
      "<class 'enum.EnumMeta'>\n",
      "<enum 'Weekday'>\n"
     ]
    }
   ],
   "source": [
    "print(type(Weekday))\n",
    "print(type(Weekday.Sun))"
   ]
  },
  {
   "cell_type": "code",
   "execution_count": 56,
   "metadata": {},
   "outputs": [],
   "source": [
    "class Hello(object):\n",
    "    def hello(self, name='world'):\n",
    "        self.name = name\n",
    "        print(\"Hello {}\".format(self.name))"
   ]
  },
  {
   "cell_type": "code",
   "execution_count": 57,
   "metadata": {},
   "outputs": [
    {
     "name": "stdout",
     "output_type": "stream",
     "text": [
      "Hello world\n"
     ]
    }
   ],
   "source": [
    "he = Hello()\n",
    "he.hello()"
   ]
  },
  {
   "cell_type": "code",
   "execution_count": 58,
   "metadata": {},
   "outputs": [
    {
     "name": "stdout",
     "output_type": "stream",
     "text": [
      "<class 'type'>\n",
      "<class '__main__.Hello'>\n"
     ]
    }
   ],
   "source": [
    "print(type(Hello))\n",
    "print(type(he))"
   ]
  },
  {
   "cell_type": "code",
   "execution_count": 59,
   "metadata": {},
   "outputs": [],
   "source": [
    "?type"
   ]
  },
  {
   "cell_type": "code",
   "execution_count": 89,
   "metadata": {},
   "outputs": [
    {
     "name": "stdout",
     "output_type": "stream",
     "text": [
      "Hello, world.\n",
      "hello\n",
      "<class 'type'>\n",
      "<class '__main__.World'>\n"
     ]
    }
   ],
   "source": [
    "def fn(self, name='world'): # 先定义函数\n",
    "    print('Hello, %s.' % name)\n",
    "def wo(slef, name=\"hello\"):\n",
    "    print(name);\n",
    "World = type('World', (object,), dict(world=fn, hello=wo)) # 创建Hello class\n",
    "h = World()\n",
    "h.world()\n",
    "h.hello()\n",
    "\n",
    "print(type(World))\n",
    "print(type(h))\n"
   ]
  },
  {
   "cell_type": "code",
   "execution_count": 72,
   "metadata": {},
   "outputs": [
    {
     "name": "stdout",
     "output_type": "stream",
     "text": [
      "False\n",
      "True\n"
     ]
    }
   ],
   "source": [
    "print(isinstance(h,Hello))\n",
    "a = 1\n",
    "print(isinstance(a,(str,int,list)))"
   ]
  },
  {
   "cell_type": "code",
   "execution_count": 94,
   "metadata": {},
   "outputs": [
    {
     "name": "stdout",
     "output_type": "stream",
     "text": [
      "<class 'int'> <class 'tuple'> <class 'tuple'>\n"
     ]
    }
   ],
   "source": [
    "b = (1)\n",
    "c = (1,)  # tuple 单元素写法\n",
    "print(type(b), type(c), type(()))"
   ]
  }
 ],
 "metadata": {
  "kernelspec": {
   "display_name": "Python 3",
   "language": "python",
   "name": "python3"
  },
  "language_info": {
   "codemirror_mode": {
    "name": "ipython",
    "version": 3
   },
   "file_extension": ".py",
   "mimetype": "text/x-python",
   "name": "python",
   "nbconvert_exporter": "python",
   "pygments_lexer": "ipython3",
   "version": "3.6.5"
  }
 },
 "nbformat": 4,
 "nbformat_minor": 2
}
