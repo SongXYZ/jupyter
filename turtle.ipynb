{
 "cells": [
  {
   "cell_type": "code",
   "execution_count": 1,
   "metadata": {},
   "outputs": [],
   "source": [
    "import turtle\n",
    "turtle.showturtle()  # 显示箭头\n",
    "turtle.write(\"hello\")  # 写字符串\n",
    "turtle.forward(300)  # 前进300px\n",
    "turtle.color(\"red\")  # 改变画笔颜色\n",
    "turtle.left(90)  # 箭头左转90度\n",
    "turtle.forward(300)\n",
    "turtle.goto(0,50)  # 去指定坐标\n",
    "turtle.goto(0,0)\n",
    "turtle.penup()  # 抬笔\n",
    "turtle.goto(0,300)\n",
    "turtle.pendown()  # 下笔\n",
    "turtle.circle(100)"
   ]
  },
  {
   "cell_type": "code",
   "execution_count": null,
   "metadata": {},
   "outputs": [],
   "source": [
    " "
   ]
  },
  {
   "cell_type": "code",
   "execution_count": null,
   "metadata": {},
   "outputs": [],
   "source": []
  },
  {
   "cell_type": "code",
   "execution_count": null,
   "metadata": {},
   "outputs": [],
   "source": []
  }
 ],
 "metadata": {
  "kernelspec": {
   "display_name": "Python 3",
   "language": "python",
   "name": "python3"
  },
  "language_info": {
   "codemirror_mode": {
    "name": "ipython",
    "version": 3
   },
   "file_extension": ".py",
   "mimetype": "text/x-python",
   "name": "python",
   "nbconvert_exporter": "python",
   "pygments_lexer": "ipython3",
   "version": "3.6.5"
  }
 },
 "nbformat": 4,
 "nbformat_minor": 2
}
