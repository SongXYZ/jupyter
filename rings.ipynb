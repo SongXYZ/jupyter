{
 "cells": [
  {
   "cell_type": "code",
   "execution_count": 1,
   "metadata": {},
   "outputs": [],
   "source": [
    "import turtle\n",
    "\n",
    "turtle.width(10)  # 画笔粗 10px\n",
    "\n",
    "turtle.color(\"blue\")\n",
    "turtle.penup()\n",
    "turtle.goto(-60,0)\n",
    "turtle.pendown()\n",
    "turtle.circle(50)\n",
    "\n",
    "turtle.color(\"black\")\n",
    "turtle.penup()\n",
    "turtle.goto(50,0)\n",
    "turtle.pendown()\n",
    "turtle.circle(50)\n",
    "\n",
    "turtle.color(\"red\")\n",
    "turtle.penup()\n",
    "turtle.goto(160,0)\n",
    "turtle.pendown()\n",
    "turtle.circle(50)\n",
    "\n",
    "turtle.color(\"yellow\")\n",
    "turtle.penup()\n",
    "turtle.goto(-5,-50)\n",
    "turtle.pendown()\n",
    "turtle.circle(50)\n",
    "\n",
    "turtle.color(\"green\")\n",
    "turtle.penup()\n",
    "turtle.goto(105,-50)\n",
    "turtle.pendown()\n",
    "turtle.circle(50)"
   ]
  },
  {
   "cell_type": "code",
   "execution_count": null,
   "metadata": {},
   "outputs": [],
   "source": []
  },
  {
   "cell_type": "code",
   "execution_count": null,
   "metadata": {},
   "outputs": [],
   "source": []
  },
  {
   "cell_type": "code",
   "execution_count": null,
   "metadata": {},
   "outputs": [],
   "source": []
  }
 ],
 "metadata": {
  "kernelspec": {
   "display_name": "Python 3",
   "language": "python",
   "name": "python3"
  },
  "language_info": {
   "codemirror_mode": {
    "name": "ipython",
    "version": 3
   },
   "file_extension": ".py",
   "mimetype": "text/x-python",
   "name": "python",
   "nbconvert_exporter": "python",
   "pygments_lexer": "ipython3",
   "version": "3.6.5"
  }
 },
 "nbformat": 4,
 "nbformat_minor": 2
}
