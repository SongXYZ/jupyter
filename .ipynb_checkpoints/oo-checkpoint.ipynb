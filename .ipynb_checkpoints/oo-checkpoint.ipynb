{
 "cells": [
  {
   "cell_type": "code",
   "execution_count": 31,
   "metadata": {},
   "outputs": [
    {
     "name": "stdout",
     "output_type": "stream",
     "text": [
      "['__class__', '__delattr__', '__dict__', '__dir__', '__doc__', '__eq__', '__format__', '__ge__', '__getattribute__', '__gt__', '__hash__', '__init__', '__init_subclass__', '__le__', '__lt__', '__module__', '__ne__', '__new__', '__reduce__', '__reduce_ex__', '__repr__', '__setattr__', '__sizeof__', '__str__', '__subclasshook__', '__weakref__']\n",
      "['__class__', '__delattr__', '__dict__', '__dir__', '__doc__', '__eq__', '__format__', '__ge__', '__getattribute__', '__gt__', '__hash__', '__init__', '__init_subclass__', '__le__', '__lt__', '__module__', '__ne__', '__new__', '__reduce__', '__reduce_ex__', '__repr__', '__setattr__', '__sizeof__', '__str__', '__subclasshook__', '__weakref__']\n"
     ]
    }
   ],
   "source": [
    "class A:\n",
    "    pass\n",
    "class B(object):\n",
    "    pass\n",
    "\n",
    "print(dir(A))\n",
    "print(dir(B))"
   ]
  },
  {
   "cell_type": "code",
   "execution_count": 27,
   "metadata": {},
   "outputs": [],
   "source": [
    "class Person(object):\n",
    "    def __init__(self, name, gender):\n",
    "        self.name = name\n",
    "        self.gender = gender\n",
    "    \n",
    "    def say(self):\n",
    "        print(\"Hi\", self.name)"
   ]
  },
  {
   "cell_type": "code",
   "execution_count": 26,
   "metadata": {},
   "outputs": [
    {
     "name": "stdout",
     "output_type": "stream",
     "text": [
      "Tom\n",
      "Hi Tom\n"
     ]
    }
   ],
   "source": [
    "tom = Person('Tom', 'Male')\n",
    "print(tom.name)\n",
    "tom.say()"
   ]
  },
  {
   "cell_type": "markdown",
   "metadata": {},
   "source": [
    "### 相当于调用Person类的say方法的self"
   ]
  },
  {
   "cell_type": "code",
   "execution_count": 25,
   "metadata": {},
   "outputs": [
    {
     "name": "stdout",
     "output_type": "stream",
     "text": [
      "Hi Tom\n"
     ]
    }
   ],
   "source": [
    "Person.say(tom)"
   ]
  },
  {
   "cell_type": "code",
   "execution_count": 20,
   "metadata": {},
   "outputs": [],
   "source": [
    "class Doctor(Person):\n",
    "    def __init__(self, name, gender, dept):\n",
    "        super().__init__(name, gender)\n",
    "        self.dept = dept\n",
    "    \n",
    "    def say(self):\n",
    "        print(\"I am %s from %s department\" % (self.name, self.dept))"
   ]
  },
  {
   "cell_type": "code",
   "execution_count": 21,
   "metadata": {},
   "outputs": [
    {
     "name": "stdout",
     "output_type": "stream",
     "text": [
      "I am Tom from Cardiac department\n"
     ]
    }
   ],
   "source": [
    "doc = Doctor('Tom', 'Male', 'Cardiac')\n",
    "doc.say()"
   ]
  },
  {
   "cell_type": "code",
   "execution_count": 17,
   "metadata": {},
   "outputs": [
    {
     "name": "stdout",
     "output_type": "stream",
     "text": [
      "C not is empty\n",
      "None\n"
     ]
    }
   ],
   "source": [
    "class Book(object):\n",
    "    def __init__(self, bname='C'):\n",
    "        self.__name = bname\n",
    "    \n",
    "    @property\n",
    "    def name(self):\n",
    "        if not self.__name:\n",
    "            print(self.__name, 'is empty')\n",
    "        else:\n",
    "            print(self.__name, 'not is empty')\n",
    "    \n",
    "    @name.setter\n",
    "    def name(self, bname):\n",
    "        self.__name = bname\n",
    "    \n",
    "    @name.deleter\n",
    "    def name(self):\n",
    "#         print(\"delete name\")\n",
    "        del self.name\n",
    "\n",
    "book = Book()\n",
    "print(book.name)\n",
    "book.name = 'B'\n",
    "# del book.name\n",
    "# print(book._Book__name)·\n"
   ]
  },
  {
   "cell_type": "markdown",
   "metadata": {},
   "source": [
    "### Duck Typing  butiaoshi"
   ]
  },
  {
   "cell_type": "code",
   "execution_count": 9,
   "metadata": {},
   "outputs": [],
   "source": [
    "class Quote(object):\n",
    "    def __init__(self, person, words):\n",
    "        self.person = person\n",
    "        self.words = words\n",
    "    \n",
    "    def who(self):\n",
    "        return self.person\n",
    "    \n",
    "    def says(self):\n",
    "        return self.words + '.'\n",
    "\n",
    "class QuestionQuote(Quote):\n",
    "    def says(self):\n",
    "        return self.words + '?'\n",
    "\n",
    "class ExclamationQuote(Quote):\n",
    "    def says(self):\n",
    "        return self.words + '!'"
   ]
  },
  {
   "cell_type": "code",
   "execution_count": 10,
   "metadata": {},
   "outputs": [],
   "source": [
    "def who_says(obj):\n",
    "    print(obj.who(), 'says:', obj.says())"
   ]
  },
  {
   "cell_type": "code",
   "execution_count": 11,
   "metadata": {},
   "outputs": [],
   "source": [
    "class Ed(object):\n",
    "    def __init__(self, person, words):\n",
    "        self.person = person\n",
    "        self.words = words\n",
    "    \n",
    "    def who(self):\n",
    "        return self.person\n",
    "    \n",
    "    def says(self):\n",
    "        return self.words"
   ]
  },
  {
   "cell_type": "code",
   "execution_count": 12,
   "metadata": {},
   "outputs": [],
   "source": [
    "q1 = Quote('Tom', 'Quote')\n",
    "q2 = QuestionQuote('Z', 'QuestionQuote')\n",
    "q3 = ExclamationQuote('E', 'Exclamation')\n",
    "\n",
    "ed = Ed('ED', 'Duck Typing')\n",
    "\n",
    "q = [q1, q2, q3, ed]"
   ]
  },
  {
   "cell_type": "code",
   "execution_count": 13,
   "metadata": {},
   "outputs": [
    {
     "name": "stdout",
     "output_type": "stream",
     "text": [
      "Tom says: Quote.\n",
      "Z says: QuestionQuote?\n",
      "E says: Exclamation!\n",
      "ED says: Duck Typing\n"
     ]
    }
   ],
   "source": [
    "for qq in q:\n",
    "    who_says(qq) "
   ]
  },
  {
   "cell_type": "markdown",
   "metadata": {},
   "source": [
    "###### Magic methods for comparison:\n",
    "* `__eq__` ==\n",
    "* `__ne__` !=\n",
    "* `__lt__` <\n",
    "* `__gt__` >\n",
    "* `__le__` <=\n",
    "* `__ge__` >=\n",
    "\n",
    "###### Magic methods fro numbers:\n",
    "* `__add__` +\n",
    "* `__sub__` -\n",
    "* `__mul__` *\n",
    "* `__floordiv__` // 整除\n",
    "* `__truediv__` /\n",
    "* `__mod__` %\n",
    "* `__pow__` **\n"
   ]
  },
  {
   "cell_type": "markdown",
   "metadata": {},
   "source": [
    "### Special Methods\n",
    "重写 __eq__  \n",
    "- `__str__` rewrite print(class)\n",
    "- `__repr__` rewrite class\n",
    "- `__len__` len(self)"
   ]
  },
  {
   "cell_type": "code",
   "execution_count": 4,
   "metadata": {},
   "outputs": [
    {
     "name": "stdout",
     "output_type": "stream",
     "text": [
      "True\n",
      "test1, test2\n"
     ]
    },
    {
     "data": {
      "text/plain": [
       "Equal('test1, test2')"
      ]
     },
     "execution_count": 4,
     "metadata": {},
     "output_type": "execute_result"
    }
   ],
   "source": [
    "class Equal(object):\n",
    "    def __init__(self, st1, st2):\n",
    "        self.st1 = st1\n",
    "        self.st2 = st2\n",
    "    \n",
    "    def __eq__(self, E2):\n",
    "        return self.st1.lower() == E2.st1.lower()\n",
    "    \n",
    "    def __str__(self):\n",
    "        return self.st1 + \", \" + self.st2\n",
    "    \n",
    "    def __repr__(self):\n",
    "        return \"Equal('\" + self.st1 + \", \" + self.st2 + \"')\"\n",
    "\n",
    "e1 = Equal('test1', 'test2')\n",
    "e2 = Equal('Test1', 'Test2')\n",
    "print(e1 == e2)\n",
    "print(e1)\n",
    "e1"
   ]
  },
  {
   "cell_type": "markdown",
   "metadata": {},
   "source": [
    "### @classmethod 主要进行overloading construct"
   ]
  },
  {
   "cell_type": "code",
   "execution_count": 5,
   "metadata": {},
   "outputs": [
    {
     "name": "stdout",
     "output_type": "stream",
     "text": [
      "2018 11 11\n"
     ]
    }
   ],
   "source": [
    "class Date(object):\n",
    "    def __init__(self, year=0, month=0, day=0):\n",
    "        self.year = year\n",
    "        self.month = month\n",
    "        self.day = day\n",
    "    \n",
    "    @classmethod\n",
    "    def from_string(cls, date):\n",
    "        year, month, day = map(int, date.split(\"-\"))\n",
    "        date1 = cls(year, month, day)\n",
    "        return date1\n",
    "\n",
    "d1 = Date.from_string(\"2018-11-11\");\n",
    "print(d1.year, d1.month, d1.day)"
   ]
  },
  {
   "cell_type": "code",
   "execution_count": 4,
   "metadata": {},
   "outputs": [
    {
     "name": "stdout",
     "output_type": "stream",
     "text": [
      "{'name': 'Tom', 'age': 18}\n",
      "{'name': 'Tom', 'age': 18}\n"
     ]
    }
   ],
   "source": [
    "a = {'name': 'Tom', 'age': 18}\n",
    "print(a)\n",
    "print(str(a))"
   ]
  },
  {
   "cell_type": "code",
   "execution_count": 3,
   "metadata": {},
   "outputs": [
    {
     "name": "stdout",
     "output_type": "stream",
     "text": [
      "1\n"
     ]
    },
    {
     "data": {
      "text/plain": [
       "Node(1)"
      ]
     },
     "execution_count": 3,
     "metadata": {},
     "output_type": "execute_result"
    }
   ],
   "source": [
    "# val, next\n",
    "class Node(object):\n",
    "    def __init__(self, val, nxt):\n",
    "        self.val = val\n",
    "        self.next = nxt\n",
    "    \n",
    "    def __str__(self):\n",
    "        return str(self.val)\n",
    "    \n",
    "    def __repr__(self):\n",
    "        return \"Node(\"+str(self)+\")\"\n",
    "\n",
    "node1 = Node(1, Node(2, None))\n",
    "print(node1)\n",
    "node1"
   ]
  },
  {
   "cell_type": "markdown",
   "metadata": {},
   "source": [
    "### `__repr__` 中的self\n",
    "- return \"LinkedList(\"+str(self.head)+\")\"  self.head调用Node中的`__str__`\n",
    "- return \"LinkedList(\"+str(self)+\")\"  self调用LinkedList中的`__str__`\n",
    "- p = self.head  这里的p是p.val"
   ]
  },
  {
   "cell_type": "code",
   "execution_count": 73,
   "metadata": {},
   "outputs": [
    {
     "name": "stdout",
     "output_type": "stream",
     "text": [
      "2\n"
     ]
    }
   ],
   "source": [
    "class LinkedList(object):\n",
    "    def __init__(self, lst):\n",
    "        self.head = None\n",
    "        if lst != None:\n",
    "            for val in lst:\n",
    "                self.add(val)\n",
    "    \n",
    "    def __str__(self):\n",
    "        p = self.head\n",
    "        s = \"->\"\n",
    "        while p != None:\n",
    "            s += str(p.val) + \"->\"\n",
    "            p = p.next\n",
    "        s += 'None'\n",
    "        return s\n",
    "    \n",
    "    def __repr__(self):\n",
    "        return \"LinkedList(\"+str(self)+\")\"\n",
    "    \n",
    "    def __len__(self):\n",
    "        p = self.head\n",
    "        l = 0\n",
    "        while p != None:\n",
    "            p = p.next\n",
    "            l += 1\n",
    "        return l\n",
    "        \n",
    "    # 增加   \n",
    "    def add(self, val):\n",
    "        self.head = Node(val, self.head)\n",
    "    \n",
    "    # 删除\n",
    "    def remove(self, val):\n",
    "        p = self.head\n",
    "        \n",
    "        # empty\n",
    "        if p == None:\n",
    "            return\n",
    "        # head\n",
    "        if p.val == val:\n",
    "            self.head = p.next\n",
    "        \n",
    "        # zhongjian 找到 不循环\n",
    "        while p.next != None and p.next.val != val:\n",
    "            p = p.next\n",
    "        # 最后一个也可以正常删除\n",
    "        if p.next != None:\n",
    "            p.next = p.next.next\n",
    "    \n",
    "    # 插入\n",
    "    def insert(self, index, node):\n",
    "        p = self.head\n",
    "        # head\n",
    "        if index == 0:\n",
    "            self.head = node\n",
    "            node.next = p\n",
    "        else:        \n",
    "            i = 0\n",
    "            # p is Node, p.next is next in Node\n",
    "            # 将p放到index-1位置\n",
    "            while p.next != None and i != index-1:\n",
    "                p = p.next\n",
    "                i += 1\n",
    "                print(str(i))\n",
    "            print(str(i)+'a')\n",
    "\n",
    "            if p.next != None:  # 中间\n",
    "                node.next = p.next\n",
    "                p.next = node\n",
    "            \n",
    "            if p.next == None and i == index-1:  # final\n",
    "                print('final')\n",
    "                p.next = node\n",
    "    \n",
    "    # val 根据index找val\n",
    "    def val(self, index):\n",
    "        p = self.head\n",
    "        i = 0\n",
    "        # 找出index所在位置\n",
    "        while p.next != None and i != index:\n",
    "            p = p.next\n",
    "            i += 1\n",
    "        # 避免index超过list长度，需再次判断index\n",
    "        if i == index:\n",
    "            return p.val\n",
    "    \n",
    "    # index 根据val找index\n",
    "    def index(self, val):\n",
    "        p = self.head\n",
    "        i = 0\n",
    "        while p != None:\n",
    "            if p.val == val:\n",
    "                return i\n",
    "            i += 1\n",
    "            print(str(i)+'a')\n",
    "            p = p.next\n",
    "        else:\n",
    "            return -1\n",
    "        \n",
    "\n",
    "l = LinkedList([1,2])\n",
    "# print(l)\n",
    "l\n",
    "print(len(l))"
   ]
  },
  {
   "cell_type": "code",
   "execution_count": 28,
   "metadata": {},
   "outputs": [
    {
     "name": "stdout",
     "output_type": "stream",
     "text": [
      "->7->6->5->4->3->2->1->None\n"
     ]
    }
   ],
   "source": [
    "l.add(7)\n",
    "print(l)"
   ]
  },
  {
   "cell_type": "code",
   "execution_count": 87,
   "metadata": {},
   "outputs": [
    {
     "data": {
      "text/plain": [
       "LinkedList(->7->6->5->4->3->2->None)"
      ]
     },
     "execution_count": 87,
     "metadata": {},
     "output_type": "execute_result"
    }
   ],
   "source": [
    "l.remove(1)\n",
    "l"
   ]
  },
  {
   "cell_type": "code",
   "execution_count": 38,
   "metadata": {},
   "outputs": [
    {
     "name": "stdout",
     "output_type": "stream",
     "text": [
      "1\n",
      "1a\n"
     ]
    },
    {
     "data": {
      "text/plain": [
       "LinkedList(->2->1->None)"
      ]
     },
     "execution_count": 38,
     "metadata": {},
     "output_type": "execute_result"
    }
   ],
   "source": [
    "l.insert(9, Node(None, None))\n",
    "l"
   ]
  },
  {
   "cell_type": "code",
   "execution_count": 40,
   "metadata": {},
   "outputs": [
    {
     "name": "stdout",
     "output_type": "stream",
     "text": [
      "1\n",
      "1a\n"
     ]
    },
    {
     "data": {
      "text/plain": [
       "LinkedList(->2->1->None)"
      ]
     },
     "execution_count": 40,
     "metadata": {},
     "output_type": "execute_result"
    }
   ],
   "source": [
    "l.insert(9, Node(None, None))\n",
    "l"
   ]
  },
  {
   "cell_type": "code",
   "execution_count": 14,
   "metadata": {},
   "outputs": [
    {
     "name": "stdout",
     "output_type": "stream",
     "text": [
      "9\n"
     ]
    }
   ],
   "source": [
    "print(len(l))"
   ]
  },
  {
   "cell_type": "code",
   "execution_count": 151,
   "metadata": {},
   "outputs": [
    {
     "data": {
      "text/plain": [
       "1"
      ]
     },
     "execution_count": 151,
     "metadata": {},
     "output_type": "execute_result"
    }
   ],
   "source": [
    "l.val(6)"
   ]
  },
  {
   "cell_type": "code",
   "execution_count": 74,
   "metadata": {},
   "outputs": [
    {
     "name": "stdout",
     "output_type": "stream",
     "text": [
      "->2->1->None\n",
      "1a\n"
     ]
    },
    {
     "data": {
      "text/plain": [
       "1"
      ]
     },
     "execution_count": 74,
     "metadata": {},
     "output_type": "execute_result"
    }
   ],
   "source": [
    "# l1 = LinkedList([1])\n",
    "print(l)\n",
    "l.index(1)"
   ]
  },
  {
   "cell_type": "markdown",
   "metadata": {},
   "source": [
    "## infix to postfix\n",
    "- prefix 前缀\n",
    "- infix 中缀  2 - (5 + 3 * 2 + 1) / 3\n",
    "- postfix 后缀  2 5 3 2 * 1 + + 3 / -"
   ]
  },
  {
   "cell_type": "code",
   "execution_count": null,
   "metadata": {},
   "outputs": [],
   "source": []
  }
 ],
 "metadata": {
  "kernelspec": {
   "display_name": "Python 3",
   "language": "python",
   "name": "python3"
  },
  "language_info": {
   "codemirror_mode": {
    "name": "ipython",
    "version": 3
   },
   "file_extension": ".py",
   "mimetype": "text/x-python",
   "name": "python",
   "nbconvert_exporter": "python",
   "pygments_lexer": "ipython3",
   "version": "3.6.5"
  }
 },
 "nbformat": 4,
 "nbformat_minor": 2
}
