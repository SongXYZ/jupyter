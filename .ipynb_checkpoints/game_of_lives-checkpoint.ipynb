{
 "cells": [
  {
   "cell_type": "code",
   "execution_count": 2,
   "metadata": {},
   "outputs": [],
   "source": [
    "from collections import Counter"
   ]
  },
  {
   "cell_type": "code",
   "execution_count": 4,
   "metadata": {},
   "outputs": [],
   "source": [
    "def neighbors(cell):\n",
    "    (x, y) = cell\n",
    "    return [ (x-1,y-1),(x,y-1),(x+1,y-1),\n",
    "             (x-1,y),          (x+1,y),\n",
    "             (x-1,y+1),(x,y+1),(x+1,y+1)]"
   ]
  },
  {
   "cell_type": "code",
   "execution_count": 8,
   "metadata": {},
   "outputs": [],
   "source": [
    "def neighbor_counts(world):\n",
    "    return Counter(nb for cell in world\n",
    "                  for nb in neighbors(cell))"
   ]
  },
  {
   "cell_type": "code",
   "execution_count": 31,
   "metadata": {},
   "outputs": [],
   "source": [
    "def next_generation(world):\n",
    "    possible_cells = counts = neighbor_counts(world)\n",
    "    print(counts)\n",
    "    return { cell for cell in possible_cells if (counts[cell] == 3) or (counts[cell] == 2 and cell in world)}"
   ]
  },
  {
   "cell_type": "code",
   "execution_count": 25,
   "metadata": {},
   "outputs": [
    {
     "data": {
      "text/plain": [
       "{(1, 2), (1, 3), (2, 3)}"
      ]
     },
     "execution_count": 25,
     "metadata": {},
     "output_type": "execute_result"
    }
   ],
   "source": [
    "world = {(3,1),(1,2),(1,3),(2,3)}\n",
    "next_generation(world)"
   ]
  },
  {
   "cell_type": "code",
   "execution_count": 37,
   "metadata": {},
   "outputs": [
    {
     "name": "stdout",
     "output_type": "stream",
     "text": [
      "Counter({(2, 2): 3, (1, 3): 3, (2, 3): 3, (1, 2): 3, (1, 1): 2, (2, 1): 2, (0, 2): 2, (0, 3): 2, (1, 4): 2, (2, 4): 2, (3, 2): 2, (3, 3): 2, (0, 1): 1, (0, 4): 1, (3, 4): 1, (3, 1): 1})\n"
     ]
    },
    {
     "data": {
      "text/plain": [
       "{(1, 2), (1, 3), (2, 2), (2, 3)}"
      ]
     },
     "execution_count": 37,
     "metadata": {},
     "output_type": "execute_result"
    }
   ],
   "source": [
    "next_generation({(1, 2), (1, 3), (2, 2), (2, 3)})"
   ]
  },
  {
   "cell_type": "code",
   "execution_count": 18,
   "metadata": {},
   "outputs": [
    {
     "data": {
      "text/plain": [
       "[(2, 0), (3, 0), (4, 0), (2, 1), (4, 1), (2, 2), (3, 2), (4, 2)]"
      ]
     },
     "execution_count": 18,
     "metadata": {},
     "output_type": "execute_result"
    }
   ],
   "source": [
    "neighbors((3,1))"
   ]
  },
  {
   "cell_type": "code",
   "execution_count": 14,
   "metadata": {},
   "outputs": [
    {
     "data": {
      "text/plain": [
       "Counter({(2, 0): 1,\n",
       "         (3, 0): 1,\n",
       "         (4, 0): 1,\n",
       "         (2, 1): 1,\n",
       "         (4, 1): 1,\n",
       "         (2, 2): 1,\n",
       "         (3, 2): 1,\n",
       "         (4, 2): 1})"
      ]
     },
     "execution_count": 14,
     "metadata": {},
     "output_type": "execute_result"
    }
   ],
   "source": [
    "Counter(nb for nb in neighbors((3,1)))"
   ]
  },
  {
   "cell_type": "code",
   "execution_count": 48,
   "metadata": {},
   "outputs": [
    {
     "name": "stdout",
     "output_type": "stream",
     "text": [
      "Counter({'r': 2, 'g': 2, 'm': 2, 'p': 1, 'o': 1, 'a': 1, 'i': 1, 'n': 1})\n",
      "Counter({'r': 2, 'g': 2, 'm': 2, 'p': 1, 'o': 1, 'a': 1, 'i': 1, 'n': 1})\n"
     ]
    },
    {
     "data": {
      "text/plain": [
       "Counter({'p': 1, 'r': 2, 'o': 1, 'g': 2, 'a': 1, 'm': 2, 'i': 1, 'n': 1})"
      ]
     },
     "execution_count": 48,
     "metadata": {},
     "output_type": "execute_result"
    }
   ],
   "source": [
    "from collections import Counter\n",
    "c = Counter()\n",
    "for ch in 'programming':\n",
    "    c[ch] = c[ch] + 1\n",
    "print(c)\n",
    "\n",
    "print(Counter(ch for ch in \"programming\"))\n",
    "Counter('programming')"
   ]
  },
  {
   "cell_type": "code",
   "execution_count": 52,
   "metadata": {},
   "outputs": [
    {
     "data": {
      "text/plain": [
       "Counter({(1, 2): 1, (3, 1): 1, (2, 3): 1, (1, 3): 1})"
      ]
     },
     "execution_count": 52,
     "metadata": {},
     "output_type": "execute_result"
    }
   ],
   "source": [
    "world = {(3,1),(1,2),(1,3),(2,3)}\n",
    "Counter(world)"
   ]
  },
  {
   "cell_type": "code",
   "execution_count": 53,
   "metadata": {},
   "outputs": [],
   "source": [
    "?Counter"
   ]
  }
 ],
 "metadata": {
  "kernelspec": {
   "display_name": "Python 3",
   "language": "python",
   "name": "python3"
  },
  "language_info": {
   "codemirror_mode": {
    "name": "ipython",
    "version": 3
   },
   "file_extension": ".py",
   "mimetype": "text/x-python",
   "name": "python",
   "nbconvert_exporter": "python",
   "pygments_lexer": "ipython3",
   "version": "3.6.5"
  }
 },
 "nbformat": 4,
 "nbformat_minor": 2
}
