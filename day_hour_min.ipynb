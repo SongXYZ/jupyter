{
 "cells": [
  {
   "cell_type": "code",
   "execution_count": 5,
   "metadata": {},
   "outputs": [
    {
     "name": "stdout",
     "output_type": "stream",
     "text": [
      "Input min:14462\n",
      "10 天 1 : 2\n"
     ]
    }
   ],
   "source": [
    "min = int(input(\"Input min:\"))\n",
    "day = min // 24 // 60\n",
    "hour = (min // 60) % 24\n",
    "min = min % 60\n",
    "print(day, \"天\", hour, ':', min)"
   ]
  }
 ],
 "metadata": {
  "kernelspec": {
   "display_name": "Python 3",
   "language": "python",
   "name": "python3"
  },
  "language_info": {
   "codemirror_mode": {
    "name": "ipython",
    "version": 3
   },
   "file_extension": ".py",
   "mimetype": "text/x-python",
   "name": "python",
   "nbconvert_exporter": "python",
   "pygments_lexer": "ipython3",
   "version": "3.6.5"
  }
 },
 "nbformat": 4,
 "nbformat_minor": 2
}
