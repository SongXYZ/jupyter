{
 "cells": [
  {
   "cell_type": "code",
   "execution_count": 87,
   "metadata": {},
   "outputs": [
    {
     "data": {
      "text/plain": [
       "1"
      ]
     },
     "execution_count": 87,
     "metadata": {},
     "output_type": "execute_result"
    }
   ],
   "source": [
    "import random\n",
    "l = [1,2,3,4,5,6,'Tom']\n",
    "random.choice(l)"
   ]
  },
  {
   "cell_type": "code",
   "execution_count": 88,
   "metadata": {},
   "outputs": [
    {
     "data": {
      "text/plain": [
       "5"
      ]
     },
     "execution_count": 88,
     "metadata": {},
     "output_type": "execute_result"
    }
   ],
   "source": [
    "from random import choice\n",
    "l = [1,2,3,4,5,6,7,'Tom']\n",
    "choice(l)"
   ]
  },
  {
   "cell_type": "code",
   "execution_count": 101,
   "metadata": {},
   "outputs": [
    {
     "data": {
      "text/plain": [
       "['',\n",
       " '/home/song/anaconda3/lib/python36.zip',\n",
       " '/home/song/anaconda3/lib/python3.6',\n",
       " '/home/song/anaconda3/lib/python3.6/lib-dynload',\n",
       " '/home/song/anaconda3/lib/python3.6/site-packages',\n",
       " '/home/song/anaconda3/lib/python3.6/site-packages/IPython/extensions',\n",
       " '/home/song/.ipython']"
      ]
     },
     "execution_count": 101,
     "metadata": {},
     "output_type": "execute_result"
    }
   ],
   "source": [
    "# 显示环境变量，将包放入以下路径，可通过import导入使用，也可修改sys.path\n",
    "import sys\n",
    "sys.path"
   ]
  },
  {
   "cell_type": "code",
   "execution_count": 103,
   "metadata": {},
   "outputs": [],
   "source": [
    "import this"
   ]
  },
  {
   "cell_type": "markdown",
   "metadata": {},
   "source": [
    "## python standard library"
   ]
  },
  {
   "cell_type": "code",
   "execution_count": 105,
   "metadata": {},
   "outputs": [
    {
     "name": "stdout",
     "output_type": "stream",
     "text": [
      "{'H': 1, 'He': 2}\n"
     ]
    }
   ],
   "source": [
    "dic = {'H': 1, 'He':2}\n",
    "print(dic)"
   ]
  },
  {
   "cell_type": "code",
   "execution_count": 109,
   "metadata": {},
   "outputs": [
    {
     "name": "stdout",
     "output_type": "stream",
     "text": [
      "{'H': 1, 'He': 2}\n"
     ]
    }
   ],
   "source": [
    "# setdefault 如果这个值存在，则不会修改\n",
    "dic.setdefault('He', 21)\n",
    "print(dic)"
   ]
  },
  {
   "cell_type": "code",
   "execution_count": 117,
   "metadata": {},
   "outputs": [
    {
     "name": "stdout",
     "output_type": "stream",
     "text": [
      "666\n"
     ]
    }
   ],
   "source": [
    "if 'He' not in dic:\n",
    "    print(123)\n",
    "print(666)"
   ]
  },
  {
   "cell_type": "code",
   "execution_count": 123,
   "metadata": {},
   "outputs": [
    {
     "name": "stdout",
     "output_type": "stream",
     "text": [
      "defaultdict(<function <lambda> at 0x7f0c60a9be18>, {})\n"
     ]
    }
   ],
   "source": [
    "# defaultdict 如果dict中key不存在，则会执行function\n",
    "from collections import defaultdict\n",
    "dicdefault = defaultdict(lambda: \"default value\")\n",
    "print(dicdefault)"
   ]
  },
  {
   "cell_type": "code",
   "execution_count": 124,
   "metadata": {},
   "outputs": [
    {
     "name": "stdout",
     "output_type": "stream",
     "text": [
      "default value\n"
     ]
    }
   ],
   "source": [
    "print(dicdefault['H'])"
   ]
  },
  {
   "cell_type": "code",
   "execution_count": 126,
   "metadata": {},
   "outputs": [
    {
     "name": "stdout",
     "output_type": "stream",
     "text": [
      "default value\n"
     ]
    }
   ],
   "source": [
    "print(dicdefault['He'])"
   ]
  },
  {
   "cell_type": "code",
   "execution_count": 127,
   "metadata": {},
   "outputs": [],
   "source": [
    "dicdefault['Li'] = 'Hello World'"
   ]
  },
  {
   "cell_type": "code",
   "execution_count": 128,
   "metadata": {},
   "outputs": [
    {
     "name": "stdout",
     "output_type": "stream",
     "text": [
      "defaultdict(<function <lambda> at 0x7f0c60a9be18>, {'H': 'default value', 'He': 'default value', 'Li': 'Hello World'})\n"
     ]
    }
   ],
   "source": [
    "print(dicdefault)"
   ]
  },
  {
   "cell_type": "code",
   "execution_count": 141,
   "metadata": {},
   "outputs": [
    {
     "name": "stdout",
     "output_type": "stream",
     "text": [
      "Counter({'hello': 3, 'world': 3, 'de': 2, 'he': 1})\n"
     ]
    }
   ],
   "source": [
    "# Counter 统计list中每个元素出现的次数\n",
    "from collections import Counter\n",
    "all_words = ['hello','hello','hello','world','world','world','de','de','he']\n",
    "cnt = Counter(all_words)\n",
    "print(cnt)"
   ]
  },
  {
   "cell_type": "code",
   "execution_count": 155,
   "metadata": {},
   "outputs": [
    {
     "name": "stdout",
     "output_type": "stream",
     "text": [
      "{'a': 1, 'b': 'a', 1: 1}\n",
      "<built-in method items of dict object at 0x7f0c60a757e0>\n"
     ]
    }
   ],
   "source": [
    "d = {'a':1, 'b':'a', 1:1}\n",
    "print(d)\n",
    "print(d.items)"
   ]
  },
  {
   "cell_type": "code",
   "execution_count": null,
   "metadata": {},
   "outputs": [],
   "source": []
  },
  {
   "cell_type": "code",
   "execution_count": null,
   "metadata": {},
   "outputs": [],
   "source": []
  }
 ],
 "metadata": {
  "kernelspec": {
   "display_name": "Python 3",
   "language": "python",
   "name": "python3"
  },
  "language_info": {
   "codemirror_mode": {
    "name": "ipython",
    "version": 3
   },
   "file_extension": ".py",
   "mimetype": "text/x-python",
   "name": "python",
   "nbconvert_exporter": "python",
   "pygments_lexer": "ipython3",
   "version": "3.6.5"
  }
 },
 "nbformat": 4,
 "nbformat_minor": 2
}
