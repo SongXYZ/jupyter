{
 "cells": [
  {
   "cell_type": "code",
   "execution_count": 10,
   "metadata": {},
   "outputs": [
    {
     "name": "stdout",
     "output_type": "stream",
     "text": [
      "1*1=1 \n",
      "1*2=2  2*2=4 \n",
      "1*3=3  2*3=6  3*3=9 \n",
      "1*4=4  2*4=8  3*4=12 4*4=16\n",
      "1*5=5  2*5=10 3*5=15 4*5=20 5*5=25\n",
      "1*6=6  2*6=12 3*6=18 4*6=24 5*6=30 6*6=36\n",
      "1*7=7  2*7=14 3*7=21 4*7=28 5*7=35 6*7=42 7*7=49\n",
      "1*8=8  2*8=16 3*8=24 4*8=32 5*8=40 6*8=48 7*8=56 8*8=64\n",
      "1*9=9  2*9=18 3*9=27 4*9=36 5*9=45 6*9=54 7*9=63 8*9=72 9*9=81\n"
     ]
    }
   ],
   "source": [
    "print('\\n'.join([' '.join([\"%s*%s=%-2s\" % (y,x,x*y) for y in range(1,x+1)]) for x in range(1,10)]))"
   ]
  },
  {
   "cell_type": "code",
   "execution_count": 14,
   "metadata": {},
   "outputs": [],
   "source": [
    "def greet(name: str) -> str:\n",
    "    return \"Hello \" + str(name)"
   ]
  },
  {
   "cell_type": "code",
   "execution_count": 15,
   "metadata": {},
   "outputs": [
    {
     "data": {
      "text/plain": [
       "'Hello Tom'"
      ]
     },
     "execution_count": 15,
     "metadata": {},
     "output_type": "execute_result"
    }
   ],
   "source": [
    "greet(\"Tom\")"
   ]
  },
  {
   "cell_type": "code",
   "execution_count": 16,
   "metadata": {},
   "outputs": [
    {
     "data": {
      "text/plain": [
       "'Hello 123'"
      ]
     },
     "execution_count": 16,
     "metadata": {},
     "output_type": "execute_result"
    }
   ],
   "source": [
    "greet(123)"
   ]
  },
  {
   "cell_type": "code",
   "execution_count": 18,
   "metadata": {},
   "outputs": [
    {
     "data": {
      "text/plain": [
       "20"
      ]
     },
     "execution_count": 18,
     "metadata": {},
     "output_type": "execute_result"
    }
   ],
   "source": [
    "mul = lambda x: x * 2\n",
    "mul(10)"
   ]
  },
  {
   "cell_type": "code",
   "execution_count": 2,
   "metadata": {},
   "outputs": [
    {
     "data": {
      "text/plain": [
       "4"
      ]
     },
     "execution_count": 2,
     "metadata": {},
     "output_type": "execute_result"
    }
   ],
   "source": [
    "(lambda x: x*2)(2)"
   ]
  },
  {
   "cell_type": "code",
   "execution_count": 23,
   "metadata": {},
   "outputs": [
    {
     "data": {
      "text/plain": [
       "8"
      ]
     },
     "execution_count": 23,
     "metadata": {},
     "output_type": "execute_result"
    }
   ],
   "source": [
    "mul_func = [\n",
    "    lambda x: x ** 2,\n",
    "    lambda x: x ** 3,\n",
    "    lambda x: x ** 4\n",
    "]\n",
    "mul_func[1](2)"
   ]
  },
  {
   "cell_type": "markdown",
   "metadata": {},
   "source": [
    "filter 将符合条件的元素过滤出来返回一个新的list "
   ]
  },
  {
   "cell_type": "code",
   "execution_count": 28,
   "metadata": {},
   "outputs": [
    {
     "data": {
      "text/plain": [
       "[2, 4, 6, 8, 10, 12]"
      ]
     },
     "execution_count": 28,
     "metadata": {},
     "output_type": "execute_result"
    }
   ],
   "source": [
    "num_list = [1,2,4,5,6,8,10,11,12]\n",
    "list(filter(lambda x: x%2==0, num_list))"
   ]
  },
  {
   "cell_type": "markdown",
   "metadata": {},
   "source": [
    "map 对每个元素进行function，返回一个新的list "
   ]
  },
  {
   "cell_type": "code",
   "execution_count": 32,
   "metadata": {},
   "outputs": [
    {
     "data": {
      "text/plain": [
       "[False, True, True, False, True, True, True, False, True]"
      ]
     },
     "execution_count": 32,
     "metadata": {},
     "output_type": "execute_result"
    }
   ],
   "source": [
    "list(map(lambda x: x%2==0, num_list))"
   ]
  },
  {
   "cell_type": "code",
   "execution_count": 2,
   "metadata": {},
   "outputs": [
    {
     "data": {
      "text/plain": [
       "54"
      ]
     },
     "execution_count": 2,
     "metadata": {},
     "output_type": "execute_result"
    }
   ],
   "source": [
    "from functools import reduce\n",
    "reduce(lambda x,y: x+y, [12,13,14,15])"
   ]
  },
  {
   "cell_type": "code",
   "execution_count": 38,
   "metadata": {},
   "outputs": [
    {
     "data": {
      "text/plain": [
       "54"
      ]
     },
     "execution_count": 38,
     "metadata": {},
     "output_type": "execute_result"
    }
   ],
   "source": [
    "sum([12,13,14,15])"
   ]
  },
  {
   "cell_type": "code",
   "execution_count": 41,
   "metadata": {},
   "outputs": [
    {
     "data": {
      "text/plain": [
       "101"
      ]
     },
     "execution_count": 41,
     "metadata": {},
     "output_type": "execute_result"
    }
   ],
   "source": [
    "reduce(lambda x,y: x if x>y else y, [12,13,101,14])"
   ]
  },
  {
   "cell_type": "code",
   "execution_count": 3,
   "metadata": {},
   "outputs": [
    {
     "data": {
      "text/plain": [
       "5050"
      ]
     },
     "execution_count": 3,
     "metadata": {},
     "output_type": "execute_result"
    }
   ],
   "source": [
    "reduce(lambda x,y: x+y, range(1,101))"
   ]
  },
  {
   "cell_type": "code",
   "execution_count": 9,
   "metadata": {},
   "outputs": [
    {
     "name": "stdout",
     "output_type": "stream",
     "text": [
      "[0, 0]\n",
      "[2, 1]\n",
      "[4, 4]\n",
      "[6, 9]\n",
      "[8, 16]\n"
     ]
    }
   ],
   "source": [
    "def add(x):\n",
    "    return x+x\n",
    "def mul(x):\n",
    "    return x*x\n",
    "for i in range(5):\n",
    "    am_list = list(map(lambda x: x(i), [add, mul]))\n",
    "    print(am_list)"
   ]
  },
  {
   "cell_type": "code",
   "execution_count": 23,
   "metadata": {},
   "outputs": [
    {
     "name": "stdout",
     "output_type": "stream",
     "text": [
      "Input number:0\n",
      "error\n"
     ]
    }
   ],
   "source": [
    "a = int(input(\"Input number:\"))\n",
    "try:\n",
    "    print(100/a)\n",
    "except ZeroDivisionError:\n",
    "    print('error')"
   ]
  },
  {
   "cell_type": "code",
   "execution_count": 32,
   "metadata": {},
   "outputs": [
    {
     "name": "stdout",
     "output_type": "stream",
     "text": [
      "3\n"
     ]
    }
   ],
   "source": [
    "a = 'asa\"sas\"asasa\"asa<as>asas>ASASASSasasas'\n",
    "s = a.find('\"sa')\n",
    "print(s)"
   ]
  },
  {
   "cell_type": "code",
   "execution_count": 44,
   "metadata": {},
   "outputs": [
    {
     "name": "stdout",
     "output_type": "stream",
     "text": [
      "500.0 10500.0\n",
      "525.0 11025.0\n",
      "551.25 11576.25\n",
      "578.8125 12155.0625\n",
      "607.753125 12762.815625\n",
      "638.14078125 13400.95640625\n",
      "670.0478203125 14071.0042265625\n",
      "703.550211328125 14774.554437890625\n",
      "738.7277218945313 15513.282159785156\n",
      "775.6641079892578 16288.946267774414\n",
      "814.4473133887207 17103.393581163135\n",
      "855.1696790581568 17958.56326022129\n",
      "897.9281630110645 18856.491423232354\n",
      "942.8245711616177 19799.31599439397\n",
      "989.9657997196986 20789.28179411367\n",
      "1039.4640897056836 21828.745883819356\n",
      "1091.4372941909678 22920.183178010324\n",
      "1146.0091589005162 24066.19233691084\n",
      "1203.309616845542 25269.501953756382\n",
      "1263.475097687819 26532.977051444203\n",
      "[10000, 10500.0, 11025.0, 11576.25, 12155.0625, 12762.815625, 13400.95640625, 14071.0042265625, 14774.554437890625, 15513.282159785156, 16288.946267774414, 17103.393581163135, 17958.56326022129, 18856.491423232354, 19799.31599439397, 20789.28179411367, 21828.745883819356, 22920.183178010324, 24066.19233691084, 25269.501953756382, 26532.977051444203]\n"
     ]
    }
   ],
   "source": [
    "RATE = 5\n",
    "balance = 10000\n",
    "bal_recodes = [balance]\n",
    "\n",
    "for i in range(1,21):\n",
    "    interest = balance * RATE/100\n",
    "    balance = balance + interest\n",
    "    print(interest, balance)\n",
    "    bal_recodes.append(balance)\n",
    "print(bal_recodes)"
   ]
  },
  {
   "cell_type": "code",
   "execution_count": 47,
   "metadata": {},
   "outputs": [
    {
     "data": {
      "image/png": "[encoded data removed]",
      "text/plain": [
       "<Figure size 432x288 with 1 Axes>"
      ]
     },
     "metadata": {},
     "output_type": "display_data"
    }
   ],
   "source": [
    "import matplotlib.pyplot as plt\n",
    "\n",
    "flg,ax = plt.subplots()\n",
    "\n",
    "ax.plot([i for i in range(1, 20+2)], bal_recodes)\n",
    "ax.set(xlabel = 'n th year', ylabel = 'Money', title = 'How much i got')\n",
    "ax.grid()\n",
    "\n",
    "plt.show()"
   ]
  },
  {
   "cell_type": "markdown",
   "metadata": {},
   "source": [
    "    pi/4 = 1 + 1/3 - 1/5 + 1/7 - 1/9 ..."
   ]
  },
  {
   "cell_type": "code",
   "execution_count": 57,
   "metadata": {},
   "outputs": [
    {
     "name": "stdout",
     "output_type": "stream",
     "text": [
      "3.141392653591791\n"
     ]
    }
   ],
   "source": [
    "pi = 0\n",
    "flag = 0\n",
    "\n",
    "for i in range(1, 10000):\n",
    "    if i%2:\n",
    "        if flag == 0:\n",
    "            pi = pi + 1/i\n",
    "            flag = 1\n",
    "        else:\n",
    "            pi = pi - 1/i\n",
    "            flag = 0\n",
    "print(pi*4)"
   ]
  },
  {
   "cell_type": "markdown",
   "metadata": {},
   "source": [
    "预估pi值  S圆/S正方形=phal/4"
   ]
  },
  {
   "cell_type": "code",
   "execution_count": 76,
   "metadata": {},
   "outputs": [
    {
     "data": {
      "text/plain": [
       "0.45017859732354426"
      ]
     },
     "execution_count": 76,
     "metadata": {},
     "output_type": "execute_result"
    }
   ],
   "source": [
    "from random import random\n",
    "random()"
   ]
  },
  {
   "cell_type": "code",
   "execution_count": 92,
   "metadata": {},
   "outputs": [
    {
     "name": "stdout",
     "output_type": "stream",
     "text": [
      "-1\n",
      "1\n"
     ]
    }
   ],
   "source": [
    "print(-1 + 2 * 0)\n",
    "print(-1 + 2 * 1)"
   ]
  },
  {
   "cell_type": "code",
   "execution_count": 118,
   "metadata": {},
   "outputs": [
    {
     "name": "stdout",
     "output_type": "stream",
     "text": [
      "3.12904\n"
     ]
    }
   ],
   "source": [
    "from random import random\n",
    "\n",
    "TRIES = 100000\n",
    "hits = 0\n",
    "\n",
    "for i in range(TRIES):\n",
    "    r = random()\n",
    "    x = -1 + 2 * r\n",
    "    r = random()\n",
    "    y = -1 + 2 * r\n",
    "    if x*x + y*y <= 1:\n",
    "        hits += 1\n",
    "pi = 4.0 * (hits/TRIES)\n",
    "print(pi)"
   ]
  }
 ],
 "metadata": {
  "kernelspec": {
   "display_name": "Python 3",
   "language": "python",
   "name": "python3"
  },
  "language_info": {
   "codemirror_mode": {
    "name": "ipython",
    "version": 3
   },
   "file_extension": ".py",
   "mimetype": "text/x-python",
   "name": "python",
   "nbconvert_exporter": "python",
   "pygments_lexer": "ipython3",
   "version": "3.6.5"
  }
 },
 "nbformat": 4,
 "nbformat_minor": 2
}
